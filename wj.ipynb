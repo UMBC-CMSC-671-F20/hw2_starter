{
 "cells": [
  {
   "cell_type": "markdown",
   "metadata": {},
   "source": [
    "![title](jugs3.png)"
   ]
  },
  {
   "cell_type": "markdown",
   "metadata": {},
   "source": [
    "Classic two water jugs problem: given two jugs J1 and J2 with capacities C1 and C2, initially filled with W1 and W2.  Can you end up with exactly G1 liters in J1 and G2 liters in J2?  You're allowed the following actions: dump the contents of either jug onto the floor, or pour the contents of one jug into the other untill either the jug from which you are pouring is empty or the one you are filling is full."
   ]
  },
  {
   "cell_type": "code",
   "execution_count": 6,
   "metadata": {},
   "outputs": [],
   "source": [
    "import search as s               # AIMA search code"
   ]
  },
  {
   "cell_type": "markdown",
   "metadata": {},
   "source": [
    "Create WJ as a subclass of the generic Problem from the aima search.py, customizing the representation, goal test, heuristic function, actions, etc."
   ]
  },
  {
   "cell_type": "code",
   "execution_count": 7,
   "metadata": {},
   "outputs": [],
   "source": [
    "class WJ(s.Problem):\n",
    "    \"\"\"\n",
    "    STATE: tuple like (3,2) if jug 1 has 3 liters and jug 2 has 2 liters\n",
    "    GOAL: a state except with -1 representing a 'don't care', so\n",
    "      valid goals include (1,1) and (-1,2).\n",
    "    PROBLEM: Specify capacities of each jug, initial state and goal \"\"\"\n",
    "\n",
    "    def __init__(self, capacities=(9,4), initial=(9,4), goal=(7,-1)):\n",
    "        self.capacities = capacities\n",
    "        self.initial = initial\n",
    "        self.goal = goal\n",
    "\n",
    "    def __repr__(self):\n",
    "        \"\"\" Returns a string representing the object \"\"\"\n",
    "        return f\"WJ({self.capacities},{self.initial},{self.goal}\"\n",
    "\n",
    "    def goal_test(self, state):\n",
    "        \"\"\" Returns True iff state is a goal state \"\"\"\n",
    "        G1, G2 = self.goal\n",
    "        return (state[0] == G1 or G1 < 0) and (state[1] == G2 or G2 < 0)\n",
    "\n",
    "    def h(self, node):\n",
    "        \"\"\" Estimate of cost of shortest path from node to a goal \"\"\"\n",
    "        return 0 if self.goal_test(node.state) else 1\n",
    "\n",
    "    def actions(self, state):\n",
    "        \"\"\" returns list of legal actions for state \"\"\"\n",
    "        (J1, J2) = state\n",
    "        (C1, C2) = self.capacities\n",
    "        legal = []\n",
    "        if J1>0: legal.append(('dump', 1))\n",
    "        if J2>0: legal.append(('dump', 2))\n",
    "        if J2<C2 and J1>0: legal.append(('pour', 1, 2))\n",
    "        if J1<C1 and J2>0: legal.append(('pour', 2, 1))\n",
    "        return legal\n",
    "\n",
    "    def result(self, state, action):\n",
    "        \"\"\" Given a state and an action, returns the state's successor after doing action \"\"\"\n",
    "        if len(action) == 2:\n",
    "            act, arg1 = action\n",
    "        elif len(action) == 3:\n",
    "            act, arg1, arg2 = action\n",
    "        else:\n",
    "            raise ValueError(f\"Bad action: {action}\")\n",
    "\n",
    "        (J1, J2) = state\n",
    "        (C1, C2) = self.capacities\n",
    "\n",
    "        if act == 'dump':\n",
    "            return (0, J2) if arg1 == 1 else (J1, 0)\n",
    "        elif act == 'pour':\n",
    "            if arg1 == 1:\n",
    "                delta = min(J1, C2-J2)\n",
    "                return (J1-delta, J2+delta)\n",
    "            elif arg1 == 2:\n",
    "                delta = min(J2, C1-J1)\n",
    "                return (J1+delta, J2-delta)\n",
    "            else:\n",
    "                raise ValueError(f\"Bad action: {action}\")\n",
    "        else:\n",
    "            raise ValueError(f\"Bad action: {action}\")\n",
    "\n",
    "    def path_cost(self, c, state1, action, state2):\n",
    "        \"\"\" Cost of path from start node to state1 assuming cost c to\n",
    "        get to state1 and doing action to get to state2 \"\"\"\n",
    "        return c + 1"
   ]
  },
  {
   "cell_type": "code",
   "execution_count": 8,
   "metadata": {},
   "outputs": [],
   "source": [
    "# The following function just prints the solution found in a more readible way\n",
    "\n",
    "def print_solution(solution):\n",
    "    \"\"\"If path to a goal was found, prints the cost and the sequence of actions\n",
    "    and states on a path from the initial state to goal\"\"\"\n",
    "    if not solution:\n",
    "        print(\"No solution found 🙁\")\n",
    "    else:\n",
    "        print(f\"Path of cost {solution.path_cost}\", end=': ')\n",
    "        for node in solution.path():\n",
    "              if not node.action:  # None implies it's the initial state\n",
    "                  print(node.state, end=' ')\n",
    "              else:\n",
    "                  print(f\"-{node.action}->{node.state}\", end=' ')"
   ]
  },
  {
   "cell_type": "markdown",
   "metadata": {},
   "source": [
    "Create and print a problem instance: jugs with capacity 5 and 4, both initially full, ending up with 1 liter of water in the first jug and any amount in the second.  Use breadth first graph search function. Result will be None if the search failed or a goal node in the search graph if successful."
   ]
  },
  {
   "cell_type": "code",
   "execution_count": 9,
   "metadata": {},
   "outputs": [
    {
     "name": "stdout",
     "output_type": "stream",
     "text": [
      "Problem: WJ((5, 4),(5, 4),(1, -1)\n"
     ]
    }
   ],
   "source": [
    "# Create a problem instance\n",
    "p = WJ((5,4), (5,4), (1,-1)) \n",
    "print(f\"Problem: {p}\")                                                              "
   ]
  },
  {
   "cell_type": "code",
   "execution_count": 10,
   "metadata": {},
   "outputs": [
    {
     "name": "stdout",
     "output_type": "stream",
     "text": [
      "Path of cost 2: (5, 4) -('dump', 2)->(5, 0) -('pour', 1, 2)->(1, 4) "
     ]
    }
   ],
   "source": [
    "print_solution(s.breadth_first_graph_search(p))"
   ]
  },
  {
   "cell_type": "code",
   "execution_count": 11,
   "metadata": {},
   "outputs": [
    {
     "name": "stdout",
     "output_type": "stream",
     "text": [
      "Problem: WJ((7, 3),(5, 3),(-1, 1)\n"
     ]
    }
   ],
   "source": [
    "# Create a problem instance\n",
    "p = WJ((7,3), (5,3), (-1, 1)) \n",
    "print(f\"Problem: {p}\")  "
   ]
  },
  {
   "cell_type": "markdown",
   "metadata": {},
   "source": [
    "Use breadth first graph search function to find a solution. \n",
    "Result will be None if the search failed or a goal node in the search graph if successful."
   ]
  },
  {
   "cell_type": "code",
   "execution_count": 12,
   "metadata": {},
   "outputs": [
    {
     "name": "stdout",
     "output_type": "stream",
     "text": [
      "Path of cost 1: (5, 3) -('pour', 2, 1)->(7, 1) "
     ]
    }
   ],
   "source": [
    "print_solution(s.breadth_first_graph_search(p))"
   ]
  },
  {
   "cell_type": "markdown",
   "metadata": {},
   "source": [
    "Use depth first graph search function to find a solution."
   ]
  },
  {
   "cell_type": "code",
   "execution_count": 13,
   "metadata": {},
   "outputs": [
    {
     "name": "stdout",
     "output_type": "stream",
     "text": [
      "Path of cost 1: (5, 3) -('pour', 2, 1)->(7, 1) "
     ]
    }
   ],
   "source": [
    "print_solution(s.depth_first_graph_search(p))"
   ]
  },
  {
   "cell_type": "markdown",
   "metadata": {},
   "source": [
    "The AIMA code implements a number of search algorithms, let's try these"
   ]
  },
  {
   "cell_type": "code",
   "execution_count": 19,
   "metadata": {},
   "outputs": [],
   "source": [
    "algorithms = [s.breadth_first_tree_search, s.breadth_first_graph_search, s.depth_first_graph_search, s.astar_search]"
   ]
  },
  {
   "cell_type": "code",
   "execution_count": 20,
   "metadata": {},
   "outputs": [
    {
     "name": "stdout",
     "output_type": "stream",
     "text": [
      "Searcher                   successors/tests/states/goal\n",
      "breadth_first_tree_search  <  37/  38/  51/(0, >       \n",
      "breadth_first_graph_search <   9/  10/  18/(0, >       \n",
      "depth_first_graph_search   <   6/   7/  14/(0, >       \n",
      "astar_search               <   9/  10/  18/(0, >       \n"
     ]
    }
   ],
   "source": [
    "p = WJ((9,4), (9,4), (-1,1))\n",
    "s.compare_searchers(problems=[p], searchers=algorithms, header=['Searcher', 'successors/tests/states/goal'])\n"
   ]
  }
 ],
 "metadata": {
  "anaconda-cloud": {},
  "kernelspec": {
   "display_name": "Python 3",
   "language": "python",
   "name": "python3"
  },
  "language_info": {
   "codemirror_mode": {
    "name": "ipython",
    "version": 3
   },
   "file_extension": ".py",
   "mimetype": "text/x-python",
   "name": "python",
   "nbconvert_exporter": "python",
   "pygments_lexer": "ipython3",
   "version": "3.8.1"
  }
 },
 "nbformat": 4,
 "nbformat_minor": 2
}
